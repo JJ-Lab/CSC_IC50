{
 "cells": [
  {
   "cell_type": "code",
   "execution_count": 1,
   "metadata": {
    "colab": {
     "base_uri": "https://localhost:8080/"
    },
    "executionInfo": {
     "elapsed": 19429,
     "status": "ok",
     "timestamp": 1735511812989,
     "user": {
      "displayName": "Juanma Pastor",
      "userId": "01003856834809271090"
     },
     "user_tz": -60
    },
    "id": "omj2KER7skto",
    "outputId": "70fb4bbe-4fcd-499c-ef40-cf7508072347"
   },
   "outputs": [
    {
     "name": "stdout",
     "output_type": "stream",
     "text": [
      "Mounted at /content/drive\n",
      "/content/drive/MyDrive/Colab Notebooks\n"
     ]
    }
   ],
   "source": [
    "from google.colab import drive ##\n",
    "drive.mount('/content/drive')  ## Choose the Google account whose Drive you want to mount --> \"Sign in to Google Drive for desktop\" --> \"Make sure you trust Google Drive for desktop\" (you must allow Google Drive to access your data for use in the program)\n",
    "%cd 'drive/MyDrive/Colab Notebooks'"
   ]
  },
  {
   "cell_type": "markdown",
   "metadata": {
    "id": "hxzPVkBVljK-"
   },
   "source": [
    "\n",
    "\n",
    "---\n",
    "\n"
   ]
  },
  {
   "cell_type": "markdown",
   "metadata": {
    "id": "XAcwfwsWK8iA"
   },
   "source": [
    "## If you want to upload a file, execute the following cell\n"
   ]
  },
  {
   "cell_type": "code",
   "execution_count": null,
   "metadata": {
    "id": "BbfswAFHxB71"
   },
   "outputs": [],
   "source": [
    "### Execute this cell only if you want to upload a file\n",
    "from google.colab import files\n",
    "uploaded = files.upload()"
   ]
  },
  {
   "cell_type": "markdown",
   "metadata": {
    "id": "laXqKx4YllIJ"
   },
   "source": [
    "\n",
    "\n",
    "---\n",
    "\n"
   ]
  },
  {
   "cell_type": "markdown",
   "metadata": {
    "id": "rGQCgDpekMNX"
   },
   "source": [
    "## In the \"Runtime\" menu select \"Run the focused cell\" or SHIFT+Enter in the following cells"
   ]
  },
  {
   "cell_type": "code",
   "execution_count": null,
   "metadata": {
    "colab": {
     "base_uri": "https://localhost:8080/"
    },
    "executionInfo": {
     "elapsed": 169,
     "status": "ok",
     "timestamp": 1735511922425,
     "user": {
      "displayName": "Juanma Pastor",
      "userId": "01003856834809271090"
     },
     "user_tz": -60
    },
    "id": "11XUqtekuzgQ",
    "outputId": "eea5ce52-9b66-4235-a31f-ccefa99ad8e0",
    "scrolled": true
   },
   "outputs": [],
   "source": [
    "%ls ## check that your data file is located in this directory"
   ]
  },
  {
   "cell_type": "code",
   "execution_count": 3,
   "metadata": {
    "colab": {
     "base_uri": "https://localhost:8080/"
    },
    "executionInfo": {
     "elapsed": 8809,
     "status": "ok",
     "timestamp": 1735511939201,
     "user": {
      "displayName": "Juanma Pastor",
      "userId": "01003856834809271090"
     },
     "user_tz": -60
    },
    "id": "kcZ-D78Bx_yl",
    "outputId": "f74f7317-c02d-479f-8e32-6d2342c96194"
   },
   "outputs": [
    {
     "name": "stdout",
     "output_type": "stream",
     "text": [
      "Excel filename:data_example.xlsx\n"
     ]
    }
   ],
   "source": [
    "filename = input(\"Excel filename:\")"
   ]
  },
  {
   "cell_type": "code",
   "execution_count": 4,
   "metadata": {
    "colab": {
     "base_uri": "https://localhost:8080/"
    },
    "executionInfo": {
     "elapsed": 22910,
     "status": "ok",
     "timestamp": 1735511993117,
     "user": {
      "displayName": "Juanma Pastor",
      "userId": "01003856834809271090"
     },
     "user_tz": -60
    },
    "id": "SjxpYWNlyea8",
    "outputId": "98ac670b-1a0f-4fd4-ef39-e84f76e6e863"
   },
   "outputs": [
    {
     "name": "stdout",
     "output_type": "stream",
     "text": [
      "Number of sheets in the Excel File (number of time points):4\n"
     ]
    }
   ],
   "source": [
    "n_sheets = input(\"Number of sheets in the Excel File (number of time points):\")"
   ]
  },
  {
   "cell_type": "markdown",
   "metadata": {
    "id": "OVxK3JiEHd9k"
   },
   "source": [
    "## Now you can select “*Execute cell and following cells*” in the “Runtime” menu (or press *CRTL*+F10) to execute all cells and see the result in the last cell, or execute cell by cell by pressing *SHIFT*+ENTER in each cell\n"
   ]
  },
  {
   "cell_type": "code",
   "execution_count": 14,
   "metadata": {
    "executionInfo": {
     "elapsed": 5,
     "status": "ok",
     "timestamp": 1735512414488,
     "user": {
      "displayName": "Juanma Pastor",
      "userId": "01003856834809271090"
     },
     "user_tz": -60
    },
    "id": "WRU9uH3NshTC"
   },
   "outputs": [],
   "source": [
    "# Import necessary libraries\n",
    "\n",
    "# Data organization\n",
    "import pandas as pd\n",
    "import numpy as np\n",
    "\n",
    "# Data visualization\n",
    "import matplotlib\n",
    "import matplotlib.pyplot as plt\n",
    "from matplotlib.gridspec import GridSpec\n",
    "\n",
    "# Modeling\n",
    "from sklearn.metrics import mean_squared_error, r2_score\n",
    "from scipy.optimize import curve_fit\n",
    "from scipy import stats\n",
    "from scipy.stats import norm"
   ]
  },
  {
   "cell_type": "code",
   "execution_count": 6,
   "metadata": {
    "executionInfo": {
     "elapsed": 9,
     "status": "ok",
     "timestamp": 1735512083381,
     "user": {
      "displayName": "Juanma Pastor",
      "userId": "01003856834809271090"
     },
     "user_tz": -60
    },
    "id": "G8wBxFoDshTE"
   },
   "outputs": [],
   "source": [
    "def read_file_ntimes (file, ntimes):\n",
    "    \"\"\"\n",
    "    Funtion to read multiple sheets from an Excel file and organize them into a list of DataFrames.\n",
    "\n",
    "    Parameters:\n",
    "    file : str\n",
    "        The file path or name of the Excel file containing the data. The file should contain multiple sheets,\n",
    "        each representing consecutive time points (e.g., 0 hours, 24 hours, 48 hours).\n",
    "\n",
    "    ntimes : int\n",
    "        The number of sheets to read from the Excel file, representing different time points.\n",
    "\n",
    "    Expected Excel File Format:\n",
    "    - Each sheet in the file should have the following column structure:\n",
    "      - 1st column: \"Concentration\" in micromolar (µM).\n",
    "      - Columns 2 onward: Data for replicates of different experiments in the following sequence:\n",
    "        - Columns 2–4: Replicate 1, Replicate 2, Replicate 3 for Experiment 1.\n",
    "        - Columns 5–7: Replicate 1, Replicate 2, Replicate 3 for Experiment 2.\n",
    "        - Continue this pattern for additional experiments.\n",
    "\n",
    "    Returns:\n",
    "    list of pandas.DataFrame\n",
    "        A list containing DataFrames for each time point (sheet) in the Excel file.\n",
    "    \"\"\"\n",
    "\n",
    "    DF_list = list()\n",
    "    sheets = range(ntimes) # Reads the specified number of sheets\n",
    "\n",
    "    # Loop to process all sheets\n",
    "    for sheet in sheets:\n",
    "        print('sheet:', sheet)\n",
    "        df = pd.read_excel(file, sheet_name=sheet) ## selelct decimal (point decimal='.')\n",
    "        cols = df.columns\n",
    "        df.set_index(cols[0], inplace=True) # Set the first column (concentration) as the index\n",
    "        print('Data:\\n',df)\n",
    "        # Fill NaN values with the mean of replicates\n",
    "        df_filled = df.T.fillna(df.mean(axis=1)).T\n",
    "\n",
    "        # Add the processed DataFrame to the list\n",
    "        DF_list.append(df_filled)\n",
    "\n",
    "    return DF_list"
   ]
  },
  {
   "cell_type": "code",
   "execution_count": 7,
   "metadata": {
    "executionInfo": {
     "elapsed": 8,
     "status": "ok",
     "timestamp": 1735512083381,
     "user": {
      "displayName": "Juanma Pastor",
      "userId": "01003856834809271090"
     },
     "user_tz": -60
    },
    "id": "F7XoZo0xshTF"
   },
   "outputs": [],
   "source": [
    "def log_absorbance_data(dfs):\n",
    "    \"\"\"\n",
    "    Compute the logarithm of absorbance data for each experiment and time point.\n",
    "\n",
    "    Assumes columns for replicates are located consecutively for each experiment.\n",
    "    The total number of columns (excluding the concentration column) is:\n",
    "        Number of replicates × Number of experiments\n",
    "\n",
    "    Parameters:\n",
    "    dfs : list of pandas.DataFrame\n",
    "        A list of DataFrames, each representing data from a different time point. Each DataFrame should have:\n",
    "        - 1st column: \"Concentration\".\n",
    "        - Subsequent columns: Data for replicates of different experiments, with columns for replicates grouped together sequentially.\n",
    "\n",
    "    Returns:\n",
    "    tuple\n",
    "        - Concentr: A NumPy array of concentration values (extracted from the index of the DataFrames).\n",
    "        - logs_C_t: A 3D NumPy array with the logarithm of average absorbance values. The shape of the array is\n",
    "          (number of concentrations, number of time points, number of experiments).\n",
    "    \"\"\"\n",
    "\n",
    "    n_times = len(dfs) # Number of time points (DataFrames)\n",
    "    shape = dfs[0].shape\n",
    "    print('shape:', shape)\n",
    "    n_exp = shape[-1] # Number of experiments (assuming 3 replicates per experiment)\n",
    "\n",
    "    n_Conc = len(dfs[0].index) # Number of concentration levels\n",
    "    Concentr = dfs[0].index.values # Array of concentration values\n",
    "\n",
    "    print('n_times:', n_times, 'n_Conc:', n_Conc,'n_exp:', n_exp)\n",
    "\n",
    "    # Initialize the array to hold logarithmic values\n",
    "    logs_C_t = np.zeros((n_Conc, n_times, n_exp) )\n",
    "\n",
    "    for i_C in range(n_Conc):\n",
    "        for i_t in range(n_times):\n",
    "            logs_C_t[i_C, i_t] = np.log(dfs[i_t].iloc[i_C,:].values)\n",
    "\n",
    "    return Concentr, logs_C_t"
   ]
  },
  {
   "cell_type": "code",
   "execution_count": 8,
   "metadata": {
    "executionInfo": {
     "elapsed": 7,
     "status": "ok",
     "timestamp": 1735512083381,
     "user": {
      "displayName": "Juanma Pastor",
      "userId": "01003856834809271090"
     },
     "user_tz": -60
    },
    "id": "c-Lq7kxRshTF"
   },
   "outputs": [],
   "source": [
    "def f_lin(x, a, b):\n",
    "    \"\"\"\n",
    "    Computes a simple linear function.\n",
    "\n",
    "    Parameters:\n",
    "    x : float or np.ndarray\n",
    "        The input value or array of values.\n",
    "    a : float\n",
    "        Slope of the linear function.\n",
    "    b : float\n",
    "        Intercept of the linear function.\n",
    "\n",
    "    Returns:\n",
    "    float or np.ndarray\n",
    "        The computed value(s) of the linear function for the given input(s).\n",
    "    \"\"\"\n",
    "    return  a*x + b"
   ]
  },
  {
   "cell_type": "code",
   "execution_count": 9,
   "metadata": {
    "executionInfo": {
     "elapsed": 6,
     "status": "ok",
     "timestamp": 1735512083381,
     "user": {
      "displayName": "Juanma Pastor",
      "userId": "01003856834809271090"
     },
     "user_tz": -60
    },
    "id": "6zCd5t1pshTG"
   },
   "outputs": [],
   "source": [
    "def calculate_growth_rate_bootstrap(X, y, n_boot, name, save=True):\n",
    "    \"\"\"\n",
    "    Calculates the growth rate using the Bootstrap method by resampling the data, fitting a linear model,\n",
    "    and averaging the results. The function also computes the 90% confidence interval for the growth rate.\n",
    "\n",
    "    Parameters:\n",
    "    X : array-like\n",
    "        Input values representing the independent variable (e.g., time).\n",
    "    y : array-like\n",
    "        Dependent variable values (e.g., growth measurements).\n",
    "    n_boot : int\n",
    "        Number of Bootstrap iterations.\n",
    "    name : str\n",
    "        Name used for saving the plot (if `save=True`).\n",
    "    save : bool, optional\n",
    "        Whether to save the resulting plot as a file. Defaults to False.\n",
    "\n",
    "    Returns:\n",
    "    tuple\n",
    "        - slope_mean: Mean of the growth rates obtained from Bootstrap iterations.\n",
    "        - Interv_A: 90% confidence interval for the growth rate.\n",
    "    \"\"\"\n",
    "\n",
    "    # Convert inputs to numpy arrays and flatten\n",
    "    X0=np.array(X).ravel()\n",
    "    y0=np.array(y).ravel()\n",
    "    print('X:',X0)\n",
    "    print('y:',y0)\n",
    "\n",
    "    n_samples=len(X0)\n",
    "    # print('n_samples:', n_samples)\n",
    "\n",
    "    # Initialize parameters for plotting and Bootstrap iterations\n",
    "    n_points = n_boot\n",
    "    n_param = 2  # Number of parameters for linear fit\n",
    "    alpha = 0.05  # For 95% confidence interval\n",
    "\n",
    "    # Create a figure with subplots for plotting\n",
    "    fig = plt.figure(figsize=(10,10))\n",
    "    gs = GridSpec(2, 2, figure=fig)\n",
    "    ax1 = fig.add_subplot(gs[0, :])\n",
    "    ax2 = fig.add_subplot(gs[1, 0])\n",
    "    ax3 = fig.add_subplot(gs[1, 1])\n",
    "\n",
    "    # Arrays to store results from Bootstrap iterations\n",
    "    y_hat_b = np.zeros((n_boot, n_samples), dtype=float) # Fitted values for each Bootstrap sample\n",
    "    params_b = np.zeros((n_boot, n_param), dtype=float) # Parameters for each Bootstrap fit\n",
    "    r2_b = np.zeros((n_boot), dtype = float)  # R^2 values for each fit\n",
    "\n",
    "    npoints_plot = 1000\n",
    "    X_plot = np.linspace(0,X0[-1],npoints_plot)\n",
    "\n",
    "    nfit=0\n",
    "    i_fit=0\n",
    "\n",
    "    for i in range(n_boot):\n",
    "        # Bootstrap: sample data with replacement\n",
    "        i_index = np.random.choice(range(0, len(X0)), len(X0))\n",
    "        X_boot = X0[i_index]\n",
    "        y_boot = y0[i_index]\n",
    "\n",
    "        try:\n",
    "            # Linear fit to the resampled data\n",
    "            popt_b, pcov_b = curve_fit(f_lin, X_boot, y_boot)\n",
    "\n",
    "            # Ensure parameters are within reasonable bounds\n",
    "            if (np.abs(popt_b)<10).all() and (np.sqrt(pcov_b[0][0])<10):\n",
    "                y_hat_i = f_lin(X_boot, *popt_b) # Predicted values for the resampled data\n",
    "                y_hat_b[i_fit,:] = y_hat_i\n",
    "                params_b[i_fit,:] = popt_b\n",
    "                r2_b[i_fit] = r2_score(y_boot, y_hat_i)\n",
    "\n",
    "                # Plot each fit line\n",
    "                y_plot = f_lin(X_plot, *popt_b)\n",
    "                ax1.plot(X_plot, y_plot, color='grey', alpha=0.1, zorder=1)\n",
    "                plt.scatter(X_boot, y_boot, marker='o', color='orange', zorder=1)\n",
    "\n",
    "                i_fit += 1\n",
    "\n",
    "        except Exception as e:\n",
    "            print(f'Error in curve_fit at iteration {i}: {e}')\n",
    "\n",
    "    nfit = i_fit\n",
    "    print('Number of successful fits:', nfit)\n",
    "\n",
    "    # Calculate mean slope and its standard error\n",
    "    params_mean = np.mean(params_b[:nfit,:], axis=0)\n",
    "    slope_mean = params_mean[0]\n",
    "\n",
    "    # Compute standard error of the slope\n",
    "    sum_res2 = np.sum((params_b[:nfit,0] - slope_mean)**2)\n",
    "    SE_A = np.sqrt(n_samples/(n_samples-1)) * np.sqrt( sum_res2 / (nfit-1))\n",
    "\n",
    "\n",
    "    #############\n",
    "    t = stats.t.ppf(0.95, n_samples-2) # Student's t-value for 90% confidence interval\n",
    "    ### Aquí se podría sustituir el 0.95 por 1-alpha (alpha lo he quitado de una celda de más abajo y lo he puesto en esta)\n",
    "    #############\n",
    "\n",
    "\n",
    "\n",
    "    Interv_A = t * SE_A\n",
    "    print('Mean slope:', slope_mean, '; 90% Confidence Interval:', Interv_A)\n",
    "\n",
    "    # Plot results\n",
    "    ymin_plot, ymax_plot = plt.ylim()\n",
    "    xmin_plot, xmax_plot = plt.xlim()\n",
    "    print('ymin', ymin_plot)\n",
    "    ax1.margins(0.01)\n",
    "\n",
    "    # Plot mean fit line and add legend\n",
    "    ax1.plot(X_plot, f_lin(X_plot, params_mean[0], params_mean[1]),'r', linewidth=4,\n",
    "             label=\"Slope={:.3f}; 90% CI ={:.3f}\".format(slope_mean, Interv_A))\n",
    "    ax1.set_xlabel('Time (days)')\n",
    "    ax1.set_ylabel('ln(N)')\n",
    "    ax1.set_title(f'Growth Rate ({name}) - Bootstrap Results')\n",
    "    ax1.grid(True)\n",
    "    ax1.legend()\n",
    "\n",
    "\n",
    "    n_bins=20\n",
    "\n",
    "    # Histogram of R^2 values\n",
    "    r2_plot = r2_b[:nfit].ravel()\n",
    "    print('r^2_min:', r2_plot.min(), ';   resid_max:',r2_plot.max())\n",
    "    ax2.hist(r2_plot, density=False, bins=n_bins, range=(r2_plot.min(), r2_plot.max()), histtype='barstacked', rwidth=0.8)\n",
    "    ax2.set_xlabel('r^2')\n",
    "\n",
    "    # Histogram of growth rates\n",
    "    #print('slopes:', params_b[:nfit,0])\n",
    "    ax3.hist(params_b[:nfit,0], bins=n_bins, range=(params_b[:nfit,0].min(), params_b[:nfit,0].max()), histtype='barstacked', rwidth=0.8)\n",
    "    ax3.set_xlim(( params_b[:nfit,0].min(), params_b[:nfit,0].max()))\n",
    "    ax3.set_xlabel('Growth rate')\n",
    "\n",
    "    # Fit and plot normal distribution for growth rates\n",
    "    mu, std = norm.fit(params_b[:nfit,0])\n",
    "    xmin, xmax =(params_b[:nfit,0].min(), params_b[:nfit,0].max())\n",
    "    print('xmin:', xmin, 'xmax:', xmax)\n",
    "    x_norm = np.linspace(xmin, xmax, 100)\n",
    "    p_norm = norm.pdf(x_norm, mu, std)\n",
    "\n",
    "    bin_width = np.ptp(params_b[:nfit,0]) / n_bins\n",
    "    print('mu:', mu, 'std:', std, 'bin_width:', bin_width)\n",
    "    ax3.plot(x_norm, p_norm * nfit * bin_width, 'k', linewidth=4)\n",
    "\n",
    "    if save:\n",
    "        filename = name + '_growth_rate.jpg'\n",
    "        plt.savefig(filename)\n",
    "        print('Figure saved as ', filename)\n",
    "\n",
    "\n",
    "#     plt.show()\n",
    "\n",
    "    return slope_mean, Interv_A"
   ]
  },
  {
   "cell_type": "code",
   "execution_count": 10,
   "metadata": {
    "executionInfo": {
     "elapsed": 6,
     "status": "ok",
     "timestamp": 1735512083382,
     "user": {
      "displayName": "Juanma Pastor",
      "userId": "01003856834809271090"
     },
     "user_tz": -60
    },
    "id": "DgIcRCwVshTH"
   },
   "outputs": [],
   "source": [
    "def export_growth_rates_to_excel(concentr, growth_rates, errors, name):\n",
    "    \"\"\"\n",
    "    Saves concentration, growth rates, and their errors to an Excel file.\n",
    "\n",
    "    Parameters:\n",
    "    concentr : array-like\n",
    "        Array of concentration values.\n",
    "    growth_rates : array-like\n",
    "        Array of growth rates corresponding to each concentration.\n",
    "    errors : array-like\n",
    "        Array of errors for the growth rates.\n",
    "    name : str\n",
    "        Base name for the output Excel file.\n",
    "\n",
    "    Returns:\n",
    "    None\n",
    "    \"\"\"\n",
    "\n",
    "    cols = ['Concentration', 'Growth Rate', 'Error']\n",
    "    data = np.zeros([len(concentr), 3])\n",
    "\n",
    "    for i_C in range(len(concentr)):\n",
    "        print(f'i: {i_C}, Concentration: {concentr[i_C]}, Growth Rate: {growth_rates[i_C]}, Error: {errors[i_C]}\\n\\n')\n",
    "\n",
    "        # Fill the data array\n",
    "        data[i_C] = [concentr[i_C], growth_rates[i_C], errors[i_C]]\n",
    "\n",
    "    # Create a DataFrame from the data\n",
    "    df_r_C = pd.DataFrame(data, columns=cols)\n",
    "    print('Data to be saved:', df_r_C)\n",
    "\n",
    "    # Save the DataFrame to an Excel file\n",
    "    filename = name + '_growth_rates.xlsx'\n",
    "    df_r_C.to_excel(filename)\n",
    "    print(f'Slopes and errors saved as {filename}')\n",
    "\n",
    "    return"
   ]
  },
  {
   "cell_type": "markdown",
   "metadata": {
    "id": "ajnGEBRMshTI"
   },
   "source": [
    "## Data Processing and Analysis"
   ]
  },
  {
   "cell_type": "code",
   "execution_count": 11,
   "metadata": {
    "colab": {
     "base_uri": "https://localhost:8080/"
    },
    "executionInfo": {
     "elapsed": 1122,
     "status": "ok",
     "timestamp": 1735512084499,
     "user": {
      "displayName": "Juanma Pastor",
      "userId": "01003856834809271090"
     },
     "user_tz": -60
    },
    "id": "KJTVTnTVshTL",
    "outputId": "e9027ff0-d37e-497c-ac4a-4877334f4ff0"
   },
   "outputs": [
    {
     "name": "stdout",
     "output_type": "stream",
     "text": [
      "sheet: 0\n",
      "Data:\n",
      "            R1_Exp1  R2_Exp1  R3_Exp1  R1_Exp2  R2_Exp2  R3_Exp2  R1_Exp3  \\\n",
      "uM                                                                         \n",
      "0.000000     0.967     0.97        1     0.98      1.0      1.1     0.99   \n",
      "0.097656     0.967     0.97        1     0.98      1.0      1.1     0.99   \n",
      "0.195312     0.967     0.97        1     0.98      1.0      1.1     0.99   \n",
      "0.390625     0.967     0.97        1     0.98      1.0      1.1     0.99   \n",
      "0.781250     0.967     0.97        1     0.98      1.0      1.1     0.99   \n",
      "1.562500     0.967     0.97        1     0.98      1.0      1.1     0.99   \n",
      "3.125000     0.967     0.97        1     0.98      1.0      1.1     0.99   \n",
      "6.250000     0.967     0.97        1     0.98      1.0      1.1     0.99   \n",
      "12.500000    0.967     0.97        1     0.98      1.0      1.1     0.99   \n",
      "25.000000    0.967     0.97        1     0.98      1.0      1.1     0.99   \n",
      "50.000000    0.967     0.97        1     0.98      1.0      1.1     0.99   \n",
      "\n",
      "           R2_Exp3  R3_Exp3  \n",
      "uM                           \n",
      "0.000000      0.98     1.04  \n",
      "0.097656      0.98     1.04  \n",
      "0.195312      0.98     1.04  \n",
      "0.390625      0.98     1.04  \n",
      "0.781250      0.98     1.04  \n",
      "1.562500      0.98     1.04  \n",
      "3.125000      0.98     1.04  \n",
      "6.250000      0.98     1.04  \n",
      "12.500000     0.98     1.04  \n",
      "25.000000     0.98     1.04  \n",
      "50.000000     0.98     1.04  \n",
      "sheet: 1\n",
      "Data:\n",
      "             R1_Exp1   R2_Exp1   R3_Exp1   R1_Exp2   R2_Exp2   R3_Exp2  \\\n",
      "uM                                                                      \n",
      "0.000000   1.840000  1.870000  1.830000  1.689055  1.619403  1.343284   \n",
      "0.097656   1.820000  1.802030  1.857868  1.649254  1.731343  1.539801   \n",
      "0.195312   1.820000  1.556684  1.370558  1.537313  1.534826  1.509950   \n",
      "0.390625   1.712352  1.746193  1.708968  1.415423  1.457711  1.743781   \n",
      "0.781250   1.803723  1.637902  1.619289  1.477612  1.410448  1.425373   \n",
      "1.562500   1.502538  1.402707  1.483926  1.422886  1.427861  1.383085   \n",
      "3.125000   1.284264  1.167513  1.389171  1.365672  1.358209  1.296020   \n",
      "6.250000   1.560068  1.182741  1.443316  1.263682  1.276119  1.286070   \n",
      "12.500000  1.636210  1.338409  1.534687  1.131841  1.111940  1.166667   \n",
      "25.000000  1.324873  1.448393  1.329949  0.912935  0.927861  0.853234   \n",
      "50.000000  1.067682  1.020305  1.111675  0.723881  0.706468  0.713930   \n",
      "\n",
      "            R1_Exp3   R2_Exp3   R3_Exp3  \n",
      "uM                                       \n",
      "0.000000   1.379921  1.303150  1.076772  \n",
      "0.097656   1.340551       NaN  1.216535  \n",
      "0.195312   1.173228  1.285433  1.281496  \n",
      "0.390625   1.263780  1.226378  1.216535  \n",
      "0.781250   1.257874  1.228346  1.324803  \n",
      "1.562500   1.216535  1.200787  1.141732  \n",
      "3.125000   1.118110  1.210630  1.161417  \n",
      "6.250000   1.163386  1.122047  1.096457  \n",
      "12.500000  0.956693  0.748031  1.011811  \n",
      "25.000000  0.704724  0.687008  0.669291  \n",
      "50.000000  0.568898  0.555118  0.557087  \n",
      "sheet: 2\n",
      "Data:\n",
      "             R1_Exp1   R2_Exp1   R3_Exp1   R1_Exp2   R2_Exp2   R3_Exp2  \\\n",
      "uM                                                                      \n",
      "0.000000   2.100000  2.000000  1.980000  2.305970  2.534826  2.611940   \n",
      "0.097656   2.050000  1.800000  1.900000  2.427861  2.363184  2.400498   \n",
      "0.195312   1.900000  1.920000  1.850000  2.094527  2.139303  2.057214   \n",
      "0.390625   1.768190  1.702200  1.670051  1.945274  1.947761  2.039801   \n",
      "0.781250   1.531303  1.554992  1.450085  1.703980  1.870647  1.786070   \n",
      "1.562500   1.387479  1.255499  1.164129  1.800995  1.910448  1.820896   \n",
      "3.125000   1.108291  1.152284  1.115059  1.537313  1.422886  1.325871   \n",
      "6.250000   1.162437  1.335025  1.125212  1.203980  1.129353  1.186567   \n",
      "12.500000  1.301184  1.153976  1.197970  1.154229  1.226368  1.121891   \n",
      "25.000000  1.010152  0.932318  0.966159  0.706468  0.699005  0.810945   \n",
      "50.000000  0.554992  0.507614  0.497462  0.375622  0.348259  0.358209   \n",
      "\n",
      "            R1_Exp3   R2_Exp3   R3_Exp3  \n",
      "uM                                       \n",
      "0.000000   1.838583  1.803150  1.773622  \n",
      "0.097656   2.462598  2.450787  2.232283  \n",
      "0.195312   1.866142  2.003937  1.856299  \n",
      "0.390625   1.710630  1.962598  2.001969  \n",
      "0.781250   1.809055  1.789370  1.781496  \n",
      "1.562500   1.519685  1.612205  1.488189  \n",
      "3.125000   1.312992  1.370079  1.039370  \n",
      "6.250000   1.057087  1.224409  1.082677  \n",
      "12.500000  0.816929  0.935039  0.905512  \n",
      "25.000000  0.452756  0.374016  0.446850  \n",
      "50.000000  0.316929  0.307087  0.287402  \n",
      "sheet: 3\n",
      "Data:\n",
      "             R1_Exp1   R2_Exp1   R3_Exp1   R1_Exp2   R2_Exp2   R3_Exp2  \\\n",
      "uM                                                                      \n",
      "0.000000   2.100000  2.200000  1.000000  2.975124  2.383085  2.713930   \n",
      "0.097656   2.050000  2.070000  2.000000  2.805970  2.522388  2.509950   \n",
      "0.195312   1.874788  1.906937  1.868020  2.422886  2.574627  2.400498   \n",
      "0.390625   1.827411  1.747885  1.732657  2.375622  2.266169       NaN   \n",
      "0.781250   1.646362  1.549915  1.631134  2.111940  2.203980  2.079602   \n",
      "1.562500   1.360406  1.272420  1.294416  1.888060  2.059701  1.893035   \n",
      "3.125000   1.147208  1.143824  1.204738  1.475124  1.455224  1.437811   \n",
      "6.250000   1.120135  1.025381  0.971235  1.149254  0.818408  0.711443   \n",
      "12.500000  1.054146  0.978003  1.001692  0.840796  0.783582  0.942786   \n",
      "25.000000  0.861252  0.793570  0.729272  0.547264  0.584577  0.589552   \n",
      "50.000000  0.385787  0.324873  0.343486  0.291045  0.291045  0.283582   \n",
      "\n",
      "            R1_Exp3   R2_Exp3   R3_Exp3  \n",
      "uM                                       \n",
      "0.000000   2.513780  2.988189  2.722441  \n",
      "0.097656   2.903543  2.866142  2.842520  \n",
      "0.195312   2.454724  2.307087  2.702756  \n",
      "0.390625   2.427165  2.271654  2.314961  \n",
      "0.781250   1.618110  1.755906  1.986220  \n",
      "1.562500   1.462598  1.494094  1.433071  \n",
      "3.125000   1.185039  1.316929  1.389764  \n",
      "6.250000   1.074803  1.078740  1.055118  \n",
      "12.500000  0.726378  0.736220  0.718504  \n",
      "25.000000  0.354331  0.399606  0.391732  \n",
      "50.000000  0.212598  0.224409  0.265748  \n"
     ]
    }
   ],
   "source": [
    "n_times = int(n_sheets)\n",
    "# Read data from the file\n",
    "dfs = read_file_ntimes(filename, n_times)"
   ]
  },
  {
   "cell_type": "code",
   "execution_count": null,
   "metadata": {
    "colab": {
     "base_uri": "https://localhost:8080/"
    },
    "executionInfo": {
     "elapsed": 6,
     "status": "ok",
     "timestamp": 1735512084499,
     "user": {
      "displayName": "Juanma Pastor",
      "userId": "01003856834809271090"
     },
     "user_tz": -60
    },
    "id": "CUei46YjshTM",
    "outputId": "a864b64e-9ee8-4476-e09c-29f1e93c30d6"
   },
   "outputs": [],
   "source": [
    "# Calculate the natural log of the mean values and errors\n",
    "\n",
    "\n",
    "# Number of experiments and replicas\n",
    "n_exp = len(dfs[0].columns)\n",
    "n_rep = 1\n",
    "\n",
    "# Get the concentration values and log-transformed growth measurements\n",
    "concentr, logs_C_t = log_absorbance_data(dfs)"
   ]
  },
  {
   "cell_type": "markdown",
   "metadata": {
    "id": "4Omi2HnlshTN"
   },
   "source": [
    "## Plotting Results"
   ]
  },
  {
   "cell_type": "code",
   "execution_count": null,
   "metadata": {
    "colab": {
     "base_uri": "https://localhost:8080/",
     "height": 1000
    },
    "executionInfo": {
     "elapsed": 329992,
     "status": "ok",
     "timestamp": 1735512414487,
     "user": {
      "displayName": "Juanma Pastor",
      "userId": "01003856834809271090"
     },
     "user_tz": -60
    },
    "id": "9QkdaLPQshTO",
    "outputId": "92b55e49-ca15-4c36-9ba1-e6031a96538e"
   },
   "outputs": [],
   "source": [
    "# Create a time array for plotting\n",
    "time = [i for i in range(n_times) for _ in range(n_exp)]\n",
    "X = np.array(time).reshape(-1, 1)\n",
    "\n",
    "n_boot = 1000  # Number of bootstrap iterations\n",
    "\n",
    "name = filename[:-5]\n",
    "slopes=[]\n",
    "err_slopes=[]\n",
    "for i_C in range(len(concentr)):\n",
    "    print('i_c:', i_C,'Concentr:',concentr[i_C])\n",
    "    y = logs_C_t[i_C]\n",
    "\n",
    "    concent_str = str(np.round(concentr[i_C], 2))\n",
    "    name_C = name + '_C'+ concent_str.replace('.','p')\n",
    "    print(name_C)\n",
    "\n",
    "    # Calculate slope and error using bootstrap\n",
    "    slope_i, error_slope_i = calculate_growth_rate_bootstrap(X, y, n_boot,  name_C, True)\n",
    "\n",
    "    slopes.append(slope_i)\n",
    "    err_slopes.append(error_slope_i)\n",
    "\n",
    "# Save the results to an Excel file\n",
    "export_growth_rates_to_excel(concentr, slopes, err_slopes, name)"
   ]
  }
 ],
 "metadata": {
  "colab": {
   "provenance": []
  },
  "kernelspec": {
   "display_name": "Python 3",
   "language": "python",
   "name": "python3"
  },
  "language_info": {
   "codemirror_mode": {
    "name": "ipython",
    "version": 3
   },
   "file_extension": ".py",
   "mimetype": "text/x-python",
   "name": "python",
   "nbconvert_exporter": "python",
   "pygments_lexer": "ipython3",
   "version": "3.8.5"
  }
 },
 "nbformat": 4,
 "nbformat_minor": 5
}
